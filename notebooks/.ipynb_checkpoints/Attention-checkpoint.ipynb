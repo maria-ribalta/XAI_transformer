{
 "cells": [
  {
   "cell_type": "code",
   "execution_count": null,
   "metadata": {},
   "outputs": [],
   "source": [
    "import json\n",
    "import numpy as np\n",
    "import altair as alt\n",
    "import pandas as pd"
   ]
  },
  {
   "cell_type": "code",
   "execution_count": null,
   "metadata": {},
   "outputs": [],
   "source": [
    "def read_data(encoder_file, decoder_file):\n",
    "    with open('data/' + encoder_file) as f:\n",
    "        encoder = json.load(f)\n",
    "    with open('data/' + decoder_file) as f:\n",
    "        decoder = json.load(f)\n",
    "    return encoder, decoder"
   ]
  },
  {
   "cell_type": "markdown",
   "metadata": {},
   "source": [
    "# [PAPER] Attention evolution"
   ]
  },
  {
   "cell_type": "code",
   "execution_count": null,
   "metadata": {},
   "outputs": [],
   "source": [
    "'''\n",
    "Tinput  = Input tokens (English)\n",
    "Toutput = Output tokens (French)\n",
    "Ba      = Batch size\n",
    "Be      = Beam dimension\n",
    "S       = Nr of states\n",
    "E       = Embedding dimensions\n",
    "H       = Heads\n",
    "'''\n",
    "\n",
    "encoder_carrot, decoder_carrot = read_data('EncoderOutWrite_carrot.json', 'DecoderOutWrite_carrot.json')\n",
    "\n",
    "encoder_out_carrot = np.array(encoder_carrot['encoder_out']) # 9 x 1 x 1024 = Tinput x B x E \n",
    "encoder_embedding_carrot = np.array(encoder_carrot['encoder_embedding']) # 1 x 9 x 1024 = Ba x Tinput x E\n",
    "encoder_states_carrot = np.array(encoder_carrot['encoder_states']) # 6 x 9 x 1 x 1024 = S x Tinput x Ba x E\n",
    "\n",
    "decoder_out_carrot = np.array(decoder_carrot['decoder_out']) # 9 x 1 x 44512 = Tinput x Be x E\n",
    "decoder_attn_carrot = np.array(decoder_carrot['attn']) # 1 x 1 x 9 = Be x Ba x Tinput\n",
    "decoder_inner_states_carrot = np.array(decoder_carrot['inner_states']) # 7 x 1 x 1 x 1024 = S x Ba x Be x E\n",
    "decoder_full_attn_carrot = np.array(decoder_carrot['my_attn']) # 8 x 16 x 1 x 1 x 9 = Toutput x H x Ba x Be x Tinput\n",
    "\n",
    "english_carrot = 'My m um e ats a car rot <eos>'.split(' ') # tokens input\n",
    "french_carrot = 'Ma mère m ange une car otte <eos>'.split(' ') # tokens output\n",
    "tag = 'carrot'"
   ]
  },
  {
   "cell_type": "code",
   "execution_count": null,
   "metadata": {},
   "outputs": [],
   "source": [
    "# Display fonts\n",
    "font_size = 12\n",
    "title_size = 16\n",
    "legend_size = 16\n",
    "\n",
    "# Data Preparation\n",
    "attn_carrot = np.mean(decoder_full_attn_carrot[:,:,0,0,:], axis=1)\n",
    "x, y = np.meshgrid(range(len(french_carrot)), range(len(english_carrot)))\n",
    "z = np.transpose(attn_carrot)\n",
    "\n",
    "source = pd.DataFrame({'x': x.ravel(),\n",
    "                        'French': np.array([french_carrot[i] for i in x.ravel()]),\n",
    "                        'y': y.ravel(),\n",
    "                        'English':np.array([english_carrot[i] for i in y.ravel()]),\n",
    "                        'Attention': z.ravel(),\n",
    "                        'tag':tag})\n",
    "\n",
    "# Plot\n",
    "first = alt.Chart(source).mark_rect().encode(\n",
    "    x=alt.X('French:O', sort=[french_carrot[i] for i in range(len(french_carrot))], \n",
    "            axis = alt.Axis(\n",
    "                title=\"French token\", \n",
    "                titleFontSize=title_size, \n",
    "                labelFontSize=font_size)),\n",
    "    y=alt.Y('English:O', sort=[english_carrot[i] for i in range(len(english_carrot))], \n",
    "            axis=alt.Axis(\n",
    "                title=\"English token\", \n",
    "                titleFontSize=title_size, \n",
    "                labelFontSize=font_size)),\n",
    "    color=alt.Color('Attention'),\n",
    "    tooltip=['Attention'] # Hover\n",
    ").properties(\n",
    "    width=400,\n",
    "    height=400\n",
    ").interactive()"
   ]
  },
  {
   "cell_type": "code",
   "execution_count": null,
   "metadata": {},
   "outputs": [],
   "source": [
    "# Data preparation\n",
    "x, y = np.meshgrid(range(len(french_carrot)-1), range(len(english_carrot)-1))\n",
    "z = np.transpose(attn_carrot[:-1,:-1]) # Get rid of <EOS> token\n",
    "\n",
    "source = pd.DataFrame({'x': x.ravel(),\n",
    "                        'French': np.array([french_carrot[i] for i in x.ravel()]),\n",
    "                        'y': y.ravel(),\n",
    "                        'English':np.array([english_carrot[i] for i in y.ravel()]),\n",
    "                        'Attention': z.ravel(),\n",
    "                        'tag':tag})\n",
    "\n",
    "# Plot\n",
    "second = alt.Chart(source).mark_rect().encode(\n",
    "    x=alt.X('French:O', sort=[french_carrot[i] for i in range(len(french_carrot))], \n",
    "            axis = alt.Axis(\n",
    "                title=\"French token\",\n",
    "                titleFontSize = title_size, \n",
    "                labelFontSize=font_size)),\n",
    "    y=alt.Y('English:O', sort=[english_carrot[i] for i in range(len(english_carrot))], \n",
    "            axis=alt.Axis(\n",
    "                title=\"English token\",\n",
    "                titleFontSize = title_size, \n",
    "                labelFontSize=font_size)),\n",
    "    color=alt.Color('Attention'),\n",
    "    tooltip=['Attention'] # Hover\n",
    ").properties(\n",
    "    width=400,\n",
    "    height=400\n",
    ").interactive()"
   ]
  },
  {
   "cell_type": "code",
   "execution_count": null,
   "metadata": {},
   "outputs": [],
   "source": [
    "# Data preparation\n",
    "x, y = np.meshgrid(range(len(french_carrot)-1), range(len(english_carrot)-1))\n",
    "z = np.transpose(attn_carrot[:-1,:-1])\n",
    "\n",
    "source = pd.DataFrame({'x': x.ravel(),\n",
    "                        'French': np.array([french_carrot[i] for i in x.ravel()]),\n",
    "                        'y': y.ravel(),\n",
    "                        'English':np.array([english_carrot[i] for i in y.ravel()]),\n",
    "                        'Attention': z.ravel(),\n",
    "                        'tag':tag})\n",
    "\n",
    "# Plot\n",
    "third = alt.Chart(source).mark_rect().encode(\n",
    "    x=alt.X('French:O', sort=[french_carrot[i] for i in range(len(french_carrot))], \n",
    "            axis = alt.Axis(\n",
    "                title=\"French token\", \n",
    "                titleFontSize=title_size, \n",
    "                labelFontSize=font_size)),\n",
    "    y=alt.Y('English:O', sort=[english_carrot[i] for i in range(len(english_carrot))], \n",
    "            axis=alt.Axis(\n",
    "                title=\"English token\", \n",
    "                titleFontSize=title_size, \n",
    "                labelFontSize=font_size)),\n",
    "    color=alt.Color('Attention', scale=alt.Scale(scheme='magma')),\n",
    "    tooltip=['Attention'] # Hover\n",
    ").properties(\n",
    "    width=400,\n",
    "    height=400,\n",
    ").interactive()"
   ]
  },
  {
   "cell_type": "code",
   "execution_count": null,
   "metadata": {
    "scrolled": false
   },
   "outputs": [],
   "source": [
    "# Merge all plots\n",
    "(first & second & third\n",
    ").resolve_scale(\n",
    "    color='independent'\n",
    ").configure_legend(\n",
    "    titleFontSize=legend_size,\n",
    "    orient='right'\n",
    ") "
   ]
  },
  {
   "cell_type": "markdown",
   "metadata": {},
   "source": [
    "# [ATTENTION] Attention Plots"
   ]
  },
  {
   "cell_type": "code",
   "execution_count": null,
   "metadata": {},
   "outputs": [],
   "source": [
    "alt.data_transformers.disable_max_rows()"
   ]
  },
  {
   "cell_type": "code",
   "execution_count": null,
   "metadata": {},
   "outputs": [],
   "source": [
    "def attention_plotter(english_tokens, french_tokens, attention_matrix, tag):\n",
    "    '''\n",
    "    Input:\n",
    "        - english_tokens - the input tokens [list]\n",
    "        - french_tokens  -  the output tokens [list]\n",
    "        - attention_matrix - the attention matrix (either from encoder or decoder) [np.array]\n",
    "        - tag - a tag / word to identify the dataset and sentence [string]\n",
    "    \n",
    "    Output:\n",
    "        - source - the processed dataset [pd.DataFrame]\n",
    "        - chart  - the resulting plot [alt.Chart]\n",
    "    '''\n",
    "    \n",
    "    # Data Preparation\n",
    "    x, y = np.meshgrid(range(len(french_tokens)), range(len(english_tokens)))\n",
    "    z = np.transpose(attention_matrix[:-1,:-1])\n",
    "\n",
    "    source = pd.DataFrame({'x': x.ravel(),\n",
    "                            'French': np.array([french_tokens[i] for i in x.ravel()]),\n",
    "                            'y': y.ravel(),\n",
    "                            'English':np.array([english_tokens[i] for i in y.ravel()]),\n",
    "                            'Attention': z.ravel(),\n",
    "                            'tag':tag})\n",
    "    \n",
    "    # Plot\n",
    "    chart = alt.Chart(source).mark_rect().encode(\n",
    "        x=alt.X('French:N', sort=[french_tokens[i] for i in range(len(french_tokens))], \n",
    "                axis = alt.Axis(title=\"French token\")),\n",
    "        y=alt.Y('English:N', sort=[english_tokens[i] for i in range(len(english_tokens))], \n",
    "                axis=alt.Axis(title=\"English token\")),\n",
    "        color=alt.Color('Attention', \n",
    "                        scale=alt.Scale(scheme='magma')),\n",
    "        tooltip=['Attention']\n",
    "    ).properties(\n",
    "        width=400,\n",
    "        height=400\n",
    "    ).interactive()\n",
    "    return source, chart"
   ]
  },
  {
   "cell_type": "code",
   "execution_count": null,
   "metadata": {},
   "outputs": [],
   "source": [
    "english_carrot = 'My m um e ats a car rot'.split(' ')\n",
    "french_carrot = 'Ma mère m ange une car otte'.split(' ')"
   ]
  },
  {
   "cell_type": "code",
   "execution_count": null,
   "metadata": {},
   "outputs": [],
   "source": [
    "encoder_carrot_attn = np.array(encoder_carrot['encoder_attn'])\n",
    "encoder_carrot_attn = encoder_carrot_attn[-1,0,:,:]\n",
    "\n",
    "source_encoder_carrot, chart_encoder_carrot = attention_plotter(english_carrot, english_carrot, encoder_carrot_attn, 'carrot')\n",
    "#chart_encoder_world"
   ]
  },
  {
   "cell_type": "code",
   "execution_count": null,
   "metadata": {},
   "outputs": [],
   "source": [
    "attention_decoder_carrot = np.mean(decoder_full_attn_carrot[:,:,0,0,:], axis=1)\n",
    "\n",
    "source_decoder_carrot, chart_decoder_carrot = attention_plotter(english_carrot, french_carrot, attention_decoder_carrot, 'carrot')\n",
    "#chart_decoder_carrot"
   ]
  },
  {
   "cell_type": "markdown",
   "metadata": {},
   "source": [
    "# DRESS"
   ]
  },
  {
   "cell_type": "markdown",
   "metadata": {},
   "source": [
    "Je veux juste une robe avec des manches bouffante\n",
    "\n",
    "All i want is a dress with puffy sleaves"
   ]
  },
  {
   "cell_type": "markdown",
   "metadata": {},
   "source": [
    "## encoder"
   ]
  },
  {
   "cell_type": "code",
   "execution_count": null,
   "metadata": {},
   "outputs": [],
   "source": [
    "encoder_dress, decoder_dress = read_data('EncoderOutWrite_dress.json', 'DecoderOutWrite_dress.json')\n",
    "\n",
    "encoder_out_dress = np.array(encoder_dress['encoder_out']) \n",
    "encoder_embedding_dress = np.array(encoder_dress['encoder_embedding']) \n",
    "encoder_states_dress = np.array(encoder_dress['encoder_states'])\n",
    "\n",
    "decoder_out_dress = np.array(decoder_dress['decoder_out'])\n",
    "decoder_attn_dress = np.array(decoder_dress['attn'])\n",
    "decoder_inner_states_dress = np.array(decoder_dress['inner_states'])\n",
    "decoder_full_attn_dress = np.array(decoder_dress['my_attn'])\n",
    "\n",
    "english_dress = 'All I want is a d ress with pu ff y sle aves'.split(' ')\n",
    "french_dress = 'Je veux seulement une ro be à man ches bou ff antes'.split(' ')"
   ]
  },
  {
   "cell_type": "code",
   "execution_count": null,
   "metadata": {},
   "outputs": [],
   "source": [
    "encoder_dress_attn = np.array(encoder_dress['encoder_attn'])\n",
    "encoder_dress_attn = encoder_dress_attn[-1,0,:,:]\n",
    "\n",
    "source_encoder_dress, chart_encoder_dress = attention_plotter(english_dress, english_dress, encoder_dress_attn, 'dress')\n",
    "#chart_encoder_dress"
   ]
  },
  {
   "cell_type": "markdown",
   "metadata": {},
   "source": [
    "## decoder"
   ]
  },
  {
   "cell_type": "code",
   "execution_count": null,
   "metadata": {},
   "outputs": [],
   "source": [
    "attention_decoder_dress = np.mean(decoder_full_attn_dress[:,:,0,0,:], axis=1)\n",
    "\n",
    "source_decoder_dress, chart_decoder_dress = attention_plotter(english_dress, french_dress, attention_decoder_dress, 'dress')\n",
    "#chart_decoder_dress"
   ]
  },
  {
   "cell_type": "markdown",
   "metadata": {},
   "source": [
    "# DAY"
   ]
  },
  {
   "cell_type": "markdown",
   "metadata": {},
   "source": [
    "Tomorrow is a new a day with no mistakes in it... yet\n",
    "\n",
    "Demain est une nouvelle journée sans erreur... pour l'instant"
   ]
  },
  {
   "cell_type": "markdown",
   "metadata": {},
   "source": [
    "## encoder"
   ]
  },
  {
   "cell_type": "code",
   "execution_count": null,
   "metadata": {},
   "outputs": [],
   "source": [
    "encoder_day, decoder_day = read_data('EncoderOutWrite_day.json', 'DecoderOutWrite_day.json')\n",
    "\n",
    "encoder_out_day = np.array(encoder_day['encoder_out'])\n",
    "encoder_embedding_day = np.array(encoder_day['encoder_embedding']) \n",
    "encoder_states_day = np.array(encoder_day['encoder_states']) \n",
    "\n",
    "decoder_out_day = np.array(decoder_day['decoder_out']) \n",
    "decoder_attn_day = np.array(decoder_day['attn']) \n",
    "decoder_inner_states_day = np.array(decoder_day['inner_states']) \n",
    "decoder_full_attn_day = np.array(decoder_day['my_attn'])\n",
    "\n",
    "english_day = \"Tom orrow is a new day with no mistakes in it ... yet\".split(' ')\n",
    "french_day = \"Dem ain est une nouvelle journée sans erreur ... pour l' instant\".split(' ')"
   ]
  },
  {
   "cell_type": "code",
   "execution_count": null,
   "metadata": {},
   "outputs": [],
   "source": [
    "encoder_day_attn = np.array(encoder_day['encoder_attn'])\n",
    "encoder_day_attn = encoder_day_attn[-1,0,:,:]\n",
    "\n",
    "source_encoder_day, chart_encoder_day = attention_plotter(english_day, english_day, encoder_day_attn, 'day')\n",
    "#chart_encoder_day"
   ]
  },
  {
   "cell_type": "markdown",
   "metadata": {},
   "source": [
    "## decoder"
   ]
  },
  {
   "cell_type": "code",
   "execution_count": null,
   "metadata": {},
   "outputs": [],
   "source": [
    "attention_day = np.mean(decoder_full_attn_day[:,:,0,0,:], axis=1)\n",
    "\n",
    "source_decoder_day, chart_decoder_day = attention_plotter(english_day, french_day, attention_day, 'day')\n",
    "#chart_decoder_day"
   ]
  },
  {
   "cell_type": "markdown",
   "metadata": {},
   "source": [
    "# journalism"
   ]
  },
  {
   "cell_type": "markdown",
   "metadata": {},
   "source": [
    "## decoder"
   ]
  },
  {
   "cell_type": "code",
   "execution_count": null,
   "metadata": {},
   "outputs": [],
   "source": [
    "encoder_journalism, decoder_journalism = read_data('EncoderOutWrite_journalism.json', 'DecoderOutWrite_journalism.json')\n",
    "\n",
    "decoder_full_attn_journalism = np.array(decoder_journalism['my_attn'])\n",
    "\n",
    "attention_journalism = np.mean(decoder_full_attn_journalism[:,:,0,0,:], axis=1)"
   ]
  },
  {
   "cell_type": "code",
   "execution_count": null,
   "metadata": {},
   "outputs": [],
   "source": [
    "english_journalism = \"sound journ- alism must defend the vo- ic- eless , not send them further into silence\".split(' ')\n",
    "french_journalism =\"un journ- alisme sérieux doit défendre les sans - voix , ne pas les_ envoyer dans le silence\".split(' ')\n",
    "\n",
    "\n",
    "source_decoder_journalism, chart_decoder_journalism = attention_plotter(english_journalism, french_journalism, attention_journalism, 'journalism')\n",
    "#chart_decoder_journalism"
   ]
  },
  {
   "cell_type": "markdown",
   "metadata": {},
   "source": [
    "## encoder"
   ]
  },
  {
   "cell_type": "code",
   "execution_count": null,
   "metadata": {},
   "outputs": [],
   "source": [
    "encoder_journalism_attn = np.array(encoder_journalism['encoder_attn'])\n",
    "encoder_journalism_attn = encoder_journalism_attn[-1,0,:,:]"
   ]
  },
  {
   "cell_type": "code",
   "execution_count": null,
   "metadata": {},
   "outputs": [],
   "source": [
    "source_encoder_journalism, chart_encoder_journalism = attention_plotter(english_journalism, english_journalism, encoder_journalism_attn, 'journalism')\n",
    "chart_encoder_journalism"
   ]
  },
  {
   "cell_type": "markdown",
   "metadata": {},
   "source": [
    "# BEE\n",
    "If I wasn't a human girl I think I'd like to be a bee and live among the flowers\n",
    "\n",
    "Si je n'étais pas une fille humaine, je pense que j'aimerais être une abeille et vivre parmi les fleurs."
   ]
  },
  {
   "cell_type": "markdown",
   "metadata": {},
   "source": [
    "## encoder"
   ]
  },
  {
   "cell_type": "code",
   "execution_count": null,
   "metadata": {},
   "outputs": [],
   "source": [
    "encoder_bee, decoder_bee = read_data('EncoderOutWrite_bee.json', 'DecoderOutWrite_bee.json')\n",
    "\n",
    "encoder_out_bee = np.array(encoder_bee['encoder_out']) \n",
    "encoder_embedding_bee = np.array(encoder_bee['encoder_embedding']) \n",
    "encoder_states_bee = np.array(encoder_bee['encoder_states']) \n",
    "\n",
    "decoder_out_bee = np.array(decoder_bee['decoder_out']) \n",
    "decoder_attn_bee = np.array(decoder_bee['attn']) \n",
    "decoder_inner_states_bee = np.array(decoder_bee['inner_states'])\n",
    "decoder_full_attn_bee = np.array(decoder_bee['my_attn'])\n",
    "\n",
    "english_bee = \"If I was n 't a human girl I_ think _I 'd like to be a_ be_ e and live among the flowers\".split(' ')\n",
    "french_bee = \"Si je n' étais pas une fille humaine , je_ pense que j&apos; aimerais être une abe ille et vivre parmi les fleurs .\".split(' ')"
   ]
  },
  {
   "cell_type": "code",
   "execution_count": null,
   "metadata": {},
   "outputs": [],
   "source": [
    "encoder_bee_attn = np.array(encoder_bee['encoder_attn'])\n",
    "encoder_bee_attn = encoder_bee_attn[-1,0,:,:]\n",
    "\n",
    "source_encoder_bee, chart_encoder_bee = attention_plotter(english_bee, english_bee, encoder_bee_attn, 'bee')\n",
    "chart_encoder_bee"
   ]
  },
  {
   "cell_type": "markdown",
   "metadata": {},
   "source": [
    "## decoder"
   ]
  },
  {
   "cell_type": "code",
   "execution_count": null,
   "metadata": {},
   "outputs": [],
   "source": [
    "attention_decoder_bee = np.mean(decoder_full_attn_bee[:,:,0,0,:], axis=1)\n",
    "\n",
    "source_decoder_bee, chart_decoder_bee = attention_plotter(english_bee, french_bee, attention_decoder_bee, 'bee')\n",
    "#chart_decoder_bee"
   ]
  },
  {
   "cell_type": "markdown",
   "metadata": {},
   "source": [
    "# WORLD"
   ]
  },
  {
   "cell_type": "code",
   "execution_count": null,
   "metadata": {},
   "outputs": [],
   "source": [
    "encoder_world, decoder_world = read_data('EncoderOutWrite_world.json', 'DecoderOutWrite_world.json')\n",
    "\n",
    "encoder_out_world = np.array(encoder_world['encoder_out']) \n",
    "encoder_embedding_world = np.array(encoder_world['encoder_embedding'])\n",
    "encoder_states_world = np.array(encoder_world['encoder_states'])\n",
    "\n",
    "decoder_out_world = np.array(decoder_world['decoder_out']) \n",
    "decoder_attn_world = np.array(decoder_world['attn']) \n",
    "decoder_inner_states_world = np.array(decoder_world['inner_states'])\n",
    "decoder_full_attn_world = np.array(decoder_world['my_attn'])\n",
    "\n",
    "english_world = 'life is short and the world is_ wide'.split(' ')\n",
    "french_world = 'la vie est courte et le monde est vaste'.split(' ')\n"
   ]
  },
  {
   "cell_type": "markdown",
   "metadata": {},
   "source": [
    "## encoder"
   ]
  },
  {
   "cell_type": "code",
   "execution_count": null,
   "metadata": {},
   "outputs": [],
   "source": [
    "encoder_world_attn = np.array(encoder_world['encoder_attn'])\n",
    "encoder_world_attn = encoder_world_attn[-1,0,:,:]\n",
    "\n",
    "source_encoder_world, chart_encoder_world = attention_plotter(english_world, english_world, encoder_world_attn, 'world')\n",
    "#chart_encoder_world"
   ]
  },
  {
   "cell_type": "markdown",
   "metadata": {},
   "source": [
    "## decoder"
   ]
  },
  {
   "cell_type": "code",
   "execution_count": null,
   "metadata": {},
   "outputs": [],
   "source": [
    "attention_decoder_world = np.mean(decoder_full_attn_world[:,:,0,0,:], axis=1)\n",
    "\n",
    "source_decoder_world, chart_decoder_world = attention_plotter(english_world, french_world, attention_decoder_world, 'world')\n",
    "chart_decoder_world"
   ]
  },
  {
   "cell_type": "markdown",
   "metadata": {},
   "source": [
    "# ALL"
   ]
  },
  {
   "cell_type": "code",
   "execution_count": null,
   "metadata": {},
   "outputs": [],
   "source": [
    "frames_decoder = [source_decoder_carrot, source_decoder_dress, source_decoder_journalism, source_decoder_day, \n",
    "          source_decoder_bee, source_decoder_world]\n",
    "source_decoder = pd.concat(frames_decoder)\n",
    "source_decoder['idx'] = [i for i in range(len(source_decoder))]"
   ]
  },
  {
   "cell_type": "code",
   "execution_count": null,
   "metadata": {},
   "outputs": [],
   "source": [
    "input_dropdown = alt.binding_select(options=['carrot','dress', 'journalism', 'day', 'bee', 'world'])  \n",
    "selection = alt.selection_single(fields=['tag'], bind=input_dropdown, name='sentence', init={'tag':'carrot'})\n",
    "color = alt.condition(selection,\n",
    "                    alt.Color('z:N', legend=None),\n",
    "                    alt.value('black'))\n",
    "\n",
    "\n",
    "att_dec = alt.Chart(source_decoder).mark_rect().encode(\n",
    "    x=alt.X('French:N', sort=alt.SortField(\"idx\", order=\"ascending\"), axis = alt.Axis(\n",
    "        minExtent= 59,\n",
    "        orient= \"top\",\n",
    "        title= \"French token\",\n",
    "        titleAnchor= \"start\",\n",
    "        titlePadding=-50,\n",
    "        tickWidth=0, \n",
    "        offset=64, \n",
    "        labelAlign=\"left\", \n",
    "        labelPadding=-65)),\n",
    "    y=alt.Y('English:N', sort=alt.SortField('idx',order=\"ascending\"), axis=alt.Axis(\n",
    "                offset= 54, \n",
    "                orient='right',                                                                  \n",
    "                tickBand= \"extent\", \n",
    "                title= \"English token\", \n",
    "                titlePadding=0,\n",
    "                tickWidth=0, \n",
    "                labelPadding=-57, \n",
    "                labelAlign=\"left\", \n",
    "                titleAnchor= \"start\", \n",
    "                titleY=316)),\n",
    "    color=alt.Color('Attention', scale=alt.Scale(scheme='magma'), title=\"Attention\"),\n",
    "    tooltip=['Attention','English','French']\n",
    ").properties(\n",
    "    width=400,\n",
    "    height=400,\n",
    "    title = alt.TitleParams(\n",
    "        text='ENCODER-DECODER ATTENTION',\n",
    "        fontStyle='bold',\n",
    "        fontWeight='bold',\n",
    "        font = 'Raleway, sans-serif',\n",
    "        anchor='start',\n",
    "        dx=0,\n",
    "        dy=30)\n",
    ").interactive(\n",
    ").add_selection(\n",
    "    selection\n",
    ").transform_filter(\n",
    "    selection\n",
    ")\n",
    "    \n",
    "#att_dec"
   ]
  },
  {
   "cell_type": "code",
   "execution_count": null,
   "metadata": {},
   "outputs": [],
   "source": [
    "frames_encoder = [source_encoder_carrot, source_encoder_dress, source_encoder_journalism, source_encoder_day, \n",
    "          source_encoder_bee, source_encoder_world]\n",
    "source_encoder = pd.concat(frames_encoder)\n",
    "source_encoder['idx'] = [i for i in range(len(source_encoder))]"
   ]
  },
  {
   "cell_type": "code",
   "execution_count": null,
   "metadata": {},
   "outputs": [],
   "source": [
    "att_enc = alt.Chart(source_encoder).mark_rect().encode(\n",
    "    x=alt.X('French:N', sort=alt.SortField(\"idx\", order=\"ascending\"), \n",
    "            axis = alt.Axis(\n",
    "        minExtent= 59,\n",
    "        orient= \"top\",\n",
    "        title= 'English token',\n",
    "        titleAnchor= \"start\",\n",
    "        titlePadding=-50,\n",
    "        tickWidth=0, \n",
    "        offset=64, \n",
    "        labelAlign=\"left\", \n",
    "        labelPadding=-65 \n",
    "      )),\n",
    "    y=alt.Y('English:N', sort=alt.SortField('idx',order=\"ascending\"), \n",
    "            axis=alt.Axis(\n",
    "                offset= 54, \n",
    "                tickBand= \"extent\", \n",
    "                title= \"English token\", \n",
    "                tickWidth=0, \n",
    "                labelPadding=-54, \n",
    "                labelAlign=\"right\", \n",
    "                titleAnchor= \"end\", \n",
    "                titleY=316)),\n",
    "    color=alt.Color('Attention', scale=alt.Scale(scheme='magma'), title=\"Attention\"),\n",
    "    tooltip=['Attention', 'English']\n",
    ").properties(\n",
    "    width=400,\n",
    "    height=400,\n",
    "    title = alt.TitleParams(\n",
    "        text='SELF-ATTENTION',\n",
    "        fontStyle='bold',\n",
    "        fontWeight=900,\n",
    "        anchor='start',\n",
    "        dx=73,\n",
    "        dy=30,\n",
    "        ),\n",
    ").interactive(\n",
    ").add_selection(\n",
    "    selection\n",
    ").transform_filter(\n",
    "    selection\n",
    ")"
   ]
  },
  {
   "cell_type": "code",
   "execution_count": null,
   "metadata": {},
   "outputs": [],
   "source": [
    "attention_full = (att_enc | att_dec).configure_legend(\n",
    "    orient='bottom'\n",
    ")\n",
    "attention_full"
   ]
  },
  {
   "cell_type": "code",
   "execution_count": null,
   "metadata": {},
   "outputs": [],
   "source": [
    "#attention_full.save('attention_original.html')"
   ]
  },
  {
   "cell_type": "markdown",
   "metadata": {},
   "source": [
    "# Raleway font adaptation"
   ]
  },
  {
   "cell_type": "markdown",
   "metadata": {},
   "source": [
    "This option was dismissed in the final interactive document, as it did not render it correctly when saving."
   ]
  },
  {
   "cell_type": "code",
   "execution_count": null,
   "metadata": {},
   "outputs": [],
   "source": [
    "%%html\n",
    "<style>\n",
    "@import url('https://fonts.googleapis.com/css?family=Raleway');\n",
    "</style>"
   ]
  },
  {
   "cell_type": "code",
   "execution_count": null,
   "metadata": {},
   "outputs": [],
   "source": [
    "def raleway():\n",
    "    font = \"Raleway, sans-serif\"\n",
    "    \n",
    "    return {\n",
    "        \"config\" : {\n",
    "             \"title\": {'font': font, \"fontStyle\": \"bold\"},\n",
    "             \"axis\": {\n",
    "                  \"labelFont\": font,\n",
    "                  \"titleFont\": font,\n",
    "                  \"xaxis\":{\"minExtent\" : 100}\n",
    "             },\n",
    "             \"header\": {\n",
    "                  \"labelFont\": font,\n",
    "                  \"titleFont\": font,\n",
    "                 \"fontStyle\": \"bold\",\n",
    "             },\n",
    "             \"legend\": {\n",
    "                  \"labelFont\": font,\n",
    "                  \"titleFont\": font,\n",
    "                 \"fontStyle\": \"bold\",\n",
    "             }\n",
    "        },\n",
    "    }"
   ]
  },
  {
   "cell_type": "code",
   "execution_count": null,
   "metadata": {},
   "outputs": [],
   "source": [
    "# register the custom theme under a chosen name\n",
    "alt.themes.register('my_theme', raleway)# enable the newly registered theme\n",
    "alt.themes.enable('my_theme')"
   ]
  },
  {
   "cell_type": "code",
   "execution_count": null,
   "metadata": {},
   "outputs": [],
   "source": [
    "input_dropdown = alt.binding_select(options=['dress', 'journalism', 'day', 'bee', 'world'])  \n",
    "selection = alt.selection_single(fields=['tag'], bind=input_dropdown, name='sentence', init={'tag':'dress'})\n",
    "color = alt.condition(selection,\n",
    "                    alt.Color('z:N', legend=None),\n",
    "                    alt.value('black'))\n",
    "\n",
    "\n",
    "att_dec = alt.Chart(source_decoder).mark_rect().encode(\n",
    "    x=alt.X('French:N', sort=alt.SortField(\"idx\", order=\"ascending\"), axis = alt.Axis(\n",
    "        minExtent= 59,\n",
    "        orient= \"top\",\n",
    "        title= \"French token\",\n",
    "        titleAnchor= \"start\",\n",
    "        titlePadding=-50,\n",
    "        tickWidth=0, \n",
    "        offset=58, \n",
    "        labelAlign=\"left\", \n",
    "        labelPadding=-60)),\n",
    "    y=alt.Y('English:N', sort=alt.SortField('idx',order=\"ascending\"), axis=alt.Axis(\n",
    "                offset= 56, \n",
    "                orient='right',                                                                  \n",
    "                tickBand= \"extent\", \n",
    "                title= \"English token\", \n",
    "                titlePadding=0,\n",
    "                tickWidth=0, \n",
    "                labelPadding=-58, \n",
    "                labelAlign=\"left\", \n",
    "                titleAnchor= \"start\", \n",
    "                titleY=329)),\n",
    "    color=alt.Color('Attention', scale=alt.Scale(scheme='magma'), title=\"Attention\"),\n",
    "    tooltip=['Attention','English','French']\n",
    ").properties(\n",
    "    width=400,\n",
    "    height=400,\n",
    "    title = alt.TitleParams(\n",
    "        text='ENCODER-DECODER ATTENTION',\n",
    "        fontStyle='bold',\n",
    "        fontWeight='bold',\n",
    "        font = 'Raleway, sans-serif',\n",
    "        anchor='start',\n",
    "        dx=0,\n",
    "        dy=30,\n",
    ")).interactive(\n",
    ").add_selection(\n",
    "    selection\n",
    ").transform_filter(\n",
    "    selection\n",
    ")"
   ]
  },
  {
   "cell_type": "code",
   "execution_count": null,
   "metadata": {},
   "outputs": [],
   "source": [
    "att_enc = alt.Chart(source_encoder).mark_rect().encode(\n",
    "    x=alt.X('French:N', sort=alt.SortField(\"idx\", order=\"ascending\"), \n",
    "            axis = alt.Axis(\n",
    "        minExtent= 59,\n",
    "        orient= \"top\",\n",
    "        title= 'French token',\n",
    "        titleAnchor= \"start\",\n",
    "        titlePadding=-50,\n",
    "        tickWidth=0, \n",
    "        offset=58, \n",
    "        labelAlign=\"left\", \n",
    "        labelPadding=-60\n",
    "      )),\n",
    "    y=alt.Y('English:N', sort=alt.SortField('idx',order=\"ascending\"), \n",
    "            axis=alt.Axis(\n",
    "                offset= 54, \n",
    "                tickBand= \"extent\", \n",
    "                title= \"English token\", \n",
    "                tickWidth=0, \n",
    "                labelPadding=-54, \n",
    "                labelAlign=\"right\", \n",
    "                titleAnchor= \"end\", \n",
    "                titleY=329)),\n",
    "    color=alt.Color('Attention', scale=alt.Scale(scheme='magma'), title=\"Attention\"),\n",
    "    tooltip=['Attention', 'English', 'French']\n",
    ").properties(\n",
    "    width=400,\n",
    "    height=400,\n",
    "    title = alt.TitleParams(\n",
    "        text='SELF-ATTENTION',\n",
    "        fontStyle='bold',\n",
    "        fontWeight=900,\n",
    "        anchor='start',\n",
    "        dx=73,\n",
    "        dy=30,\n",
    "        ),\n",
    ").interactive(\n",
    ").add_selection(\n",
    "    selection\n",
    ").transform_filter(\n",
    "    selection\n",
    ")\n",
    "\n",
    "attention_full = (att_enc | att_dec).configure_legend(\n",
    "    orient='bottom'\n",
    ")"
   ]
  },
  {
   "cell_type": "code",
   "execution_count": null,
   "metadata": {},
   "outputs": [],
   "source": [
    "attention_full = (att_enc | att_dec).configure_legend(\n",
    "    orient='bottom'\n",
    ")\n",
    "\n",
    "attention_full"
   ]
  },
  {
   "cell_type": "code",
   "execution_count": null,
   "metadata": {},
   "outputs": [],
   "source": [
    "#attention_full.save('attention_raleway.html')\n"
   ]
  },
  {
   "cell_type": "code",
   "execution_count": null,
   "metadata": {},
   "outputs": [],
   "source": []
  },
  {
   "cell_type": "code",
   "execution_count": null,
   "metadata": {},
   "outputs": [],
   "source": []
  },
  {
   "cell_type": "code",
   "execution_count": null,
   "metadata": {},
   "outputs": [],
   "source": []
  }
 ],
 "metadata": {
  "kernelspec": {
   "display_name": "Python 3",
   "language": "python",
   "name": "python3"
  },
  "language_info": {
   "codemirror_mode": {
    "name": "ipython",
    "version": 3
   },
   "file_extension": ".py",
   "mimetype": "text/x-python",
   "name": "python",
   "nbconvert_exporter": "python",
   "pygments_lexer": "ipython3",
   "version": "3.7.6"
  }
 },
 "nbformat": 4,
 "nbformat_minor": 4
}
